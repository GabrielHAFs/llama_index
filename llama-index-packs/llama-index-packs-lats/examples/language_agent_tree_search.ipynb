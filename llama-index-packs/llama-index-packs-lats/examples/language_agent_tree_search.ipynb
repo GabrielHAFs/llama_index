{
 "cells": [
  {
   "cell_type": "markdown",
   "id": "ca17b65c-fc0f-4529-9ee9-2a6e5399a5b2",
   "metadata": {},
   "source": [
    "# Language Agent Tree Search\n",
    "\n",
    "<a href=\"https://colab.research.google.com/github/run-llama/llama_index/blob/main/llama-index-packs/llama-index-packs-lats/examples/language_agent_tree_search.ipynb\" target=\"_parent\"><img src=\"https://colab.research.google.com/assets/colab-badge.svg\" alt=\"Open In Colab\"/></a>\n",
    "\n",
    "[LATS (Language Agent Tree Search)](https://arxiv.org/pdf/2310.04406.pdf) by Zhou et al. combines LLM capabilities in planning, acting, and reasoning within a Monte Carlo tree search framework, allowing for deliberate and adaptive problem-solving guided by external feedback and self-reflection.\n",
    "\n",
    "We've implemented this agent as a LlamaPack - you can either pip install it to run it out-of-the-box or call `download_llama_pack` to load the pack."
   ]
  },
  {
   "cell_type": "markdown",
   "id": "91dfcbf6-9dc2-44a2-929d-df994b353031",
   "metadata": {},
   "source": [
    "## Setup"
   ]
  },
  {
   "cell_type": "markdown",
   "id": "57f52355-b01e-4f57-a952-d170f41211c5",
   "metadata": {},
   "source": [
    "#### Option 1. pip install llama-index-packs-lats"
   ]
  },
  {
   "cell_type": "code",
   "execution_count": null,
   "id": "a256034a-637c-42ec-9d34-99282b3877f6",
   "metadata": {},
   "outputs": [],
   "source": [
    "!pip install llama-index-packs-lats"
   ]
  },
  {
   "cell_type": "markdown",
   "id": "f775942f-3cbf-4799-b1ba-b93f51ff5d48",
   "metadata": {},
   "source": [
    "#### Option 2. `download_llama_pack`"
   ]
  },
  {
   "cell_type": "code",
   "execution_count": null,
   "id": "19630411-62d9-4d9a-a5d1-b298ec2ab7e6",
   "metadata": {},
   "outputs": [],
   "source": [
    "# from llama_index.core.llama_pack import download_llama_pack\n",
    "\n",
    "# LATSPacks = download_llama_pack(\"LATSPack\")"
   ]
  },
  {
   "cell_type": "markdown",
   "id": "dd3eedb4-40dc-4fb7-91ed-4383bccf76da",
   "metadata": {},
   "source": [
    "### Define Global Settings"
   ]
  },
  {
   "cell_type": "code",
   "execution_count": null,
   "id": "1741a46b-e315-4c94-aede-6b8dbd852b40",
   "metadata": {},
   "outputs": [],
   "source": [
    "from llama_index.llms.openai import OpenAI\n",
    "from llama_index.embeddings.openai import OpenAIEmbedding\n",
    "from llama_index.core import Settings\n",
    "\n",
    "\n",
    "llm = OpenAI(model=\"gpt-3.5-turbo\")\n",
    "embed_model = OpenAIEmbedding(model=\"text-embedding-3-small\")\n",
    "\n",
    "Settings.llm = llm\n",
    "Settings.embed_model = embed_model"
   ]
  },
  {
   "cell_type": "markdown",
   "id": "24573f4b-0690-43c1-b255-890767ab4c83",
   "metadata": {},
   "source": [
    "### Download Data"
   ]
  },
  {
   "cell_type": "code",
   "execution_count": null,
   "id": "acab086b-0cdf-48f1-9fae-ba67209806ef",
   "metadata": {},
   "outputs": [
    {
     "name": "stdout",
     "output_type": "stream",
     "text": [
      "--2024-03-22 01:08:53--  https://raw.githubusercontent.com/run-llama/llama_index/main/docs/examples/data/10k/uber_2021.pdf\n",
      "Resolving raw.githubusercontent.com (raw.githubusercontent.com)... 2606:50c0:8000::154, 2606:50c0:8003::154, 2606:50c0:8001::154, ...\n",
      "Connecting to raw.githubusercontent.com (raw.githubusercontent.com)|2606:50c0:8000::154|:443... connected.\n",
      "HTTP request sent, awaiting response... 404 Not Found\n",
      "2024-03-22 01:08:53 ERROR 404: Not Found.\n",
      "\n",
      "--2024-03-22 01:08:53--  https://raw.githubusercontent.com/run-llama/llama_index/main/docs/examples/data/10k/lyft_2021.pdf\n",
      "Resolving raw.githubusercontent.com (raw.githubusercontent.com)... 2606:50c0:8000::154, 2606:50c0:8003::154, 2606:50c0:8001::154, ...\n",
      "Connecting to raw.githubusercontent.com (raw.githubusercontent.com)|2606:50c0:8000::154|:443... connected.\n",
      "HTTP request sent, awaiting response... 404 Not Found\n",
      "2024-03-22 01:08:54 ERROR 404: Not Found.\n",
      "\n"
     ]
    }
   ],
   "source": [
    "!mkdir -p 'data/10k/'\n",
    "!wget 'https://raw.githubusercontent.com/run-llama/llama_index/main/docs/examples/data/10k/uber_2021.pdf' -O 'data/10k/uber_2021.pdf'\n",
    "!wget 'https://raw.githubusercontent.com/run-llama/llama_index/main/docs/examples/data/10k/lyft_2021.pdf' -O 'data/10k/lyft_2021.pdf'"
   ]
  },
  {
   "cell_type": "code",
   "execution_count": null,
   "id": "85776882-364c-4164-9878-c80b7e26628e",
   "metadata": {},
   "outputs": [],
   "source": [
    "from llama_index.core import (\n",
    "    SimpleDirectoryReader,\n",
    "    VectorStoreIndex,\n",
    "    load_index_from_storage,\n",
    ")\n",
    "from llama_index.core.storage import StorageContext\n",
    "import os\n",
    "\n",
    "\n",
    "if not os.path.exists(\"./storage/lyft\"):\n",
    "    # load data\n",
    "    lyft_docs = SimpleDirectoryReader(\n",
    "        input_files=[\"./data/10k/lyft_2021.pdf\"]\n",
    "    ).load_data()\n",
    "    uber_docs = SimpleDirectoryReader(\n",
    "        input_files=[\"./data/10k/uber_2021.pdf\"]\n",
    "    ).load_data()\n",
    "\n",
    "    # build index\n",
    "    lyft_index = VectorStoreIndex.from_documents(lyft_docs)\n",
    "    uber_index = VectorStoreIndex.from_documents(uber_docs)\n",
    "\n",
    "    # persist index\n",
    "    lyft_index.storage_context.persist(persist_dir=\"./storage/lyft\")\n",
    "    uber_index.storage_context.persist(persist_dir=\"./storage/uber\")\n",
    "else:\n",
    "    storage_context = StorageContext.from_defaults(persist_dir=\"./storage/lyft\")\n",
    "    lyft_index = load_index_from_storage(storage_context)\n",
    "\n",
    "    storage_context = StorageContext.from_defaults(persist_dir=\"./storage/uber\")\n",
    "    uber_index = load_index_from_storage(storage_context)"
   ]
  },
  {
   "cell_type": "markdown",
   "id": "9473420d-cb85-406a-acc5-1f9a66d536c6",
   "metadata": {},
   "source": [
    "### Setup Tools"
   ]
  },
  {
   "cell_type": "code",
   "execution_count": null,
   "id": "b4495859-f04b-4d8e-9dc0-05e7062de335",
   "metadata": {},
   "outputs": [],
   "source": [
    "lyft_engine = lyft_index.as_query_engine(similarity_top_k=3)\n",
    "uber_engine = uber_index.as_query_engine(similarity_top_k=3)"
   ]
  },
  {
   "cell_type": "code",
   "execution_count": null,
   "id": "757645fd-679c-4a92-a2da-66f6dffaee24",
   "metadata": {},
   "outputs": [],
   "source": [
    "from llama_index.core.tools import QueryEngineTool, ToolMetadata\n",
    "\n",
    "query_engine_tools = [\n",
    "    QueryEngineTool(\n",
    "        query_engine=lyft_engine,\n",
    "        metadata=ToolMetadata(\n",
    "            name=\"lyft_10k\",\n",
    "            description=(\n",
    "                \"Provides information about Lyft financials for year 2021. \"\n",
    "                \"Use a detailed plain text question as input to the tool.\"\n",
    "            ),\n",
    "        ),\n",
    "    ),\n",
    "    QueryEngineTool(\n",
    "        query_engine=uber_engine,\n",
    "        metadata=ToolMetadata(\n",
    "            name=\"uber_10k\",\n",
    "            description=(\n",
    "                \"Provides information about Uber financials for year 2021. \"\n",
    "                \"Use a detailed plain text question as input to the tool.\"\n",
    "            ),\n",
    "        ),\n",
    "    ),\n",
    "]"
   ]
  },
  {
   "cell_type": "markdown",
   "id": "bb60646b-d09b-41c4-b799-eaef0b5b8471",
   "metadata": {},
   "source": [
    "## Setup Agent\n",
    "\n",
    "Now we can setup the LATS agent."
   ]
  },
  {
   "cell_type": "code",
   "execution_count": null,
   "id": "c1a09462-0695-43d3-b691-ff2320fdcf45",
   "metadata": {},
   "outputs": [],
   "source": [
    "from llama_index.core.agent import AgentRunner\n",
    "from llama_index.packs.lats import LATSAgentWorker\n",
    "\n",
    "\n",
    "agent_worker = LATSAgentWorker.from_tools(query_engine_tools, llm=llm, verbose=True)\n",
    "agent = AgentRunner(agent_worker)"
   ]
  },
  {
   "cell_type": "markdown",
   "id": "e97241d1-0917-4e69-87d5-9c46af360cfd",
   "metadata": {},
   "source": [
    "## Run Some Queries"
   ]
  },
  {
   "cell_type": "code",
   "execution_count": null,
   "id": "70af4e0b-c89e-4a15-8308-68879558edf2",
   "metadata": {},
   "outputs": [],
   "source": [
    "# task = agent.create_task(\n",
    "#     \"Given the revenue growth and risk factors of Uber and Lyft, \"\n",
    "#     \"which company is performing better? Please use concrete numbers to inform your decision.\"\n",
    "# )\n",
    "\n",
    "task = agent.create_task(\n",
    "    \"Given the balance sheet and risk factors of Uber and Lyft, \"\n",
    "    \"which company is performing better? Please use concrete numbers to inform your decision.\"\n",
    ")"
   ]
  },
  {
   "cell_type": "code",
   "execution_count": null,
   "id": "eccc109c-c443-40f6-be79-2264e5d97224",
   "metadata": {},
   "outputs": [
    {
     "name": "stdout",
     "output_type": "stream",
     "text": [
      "\u001b[1;3;32m> Selecting node to expand: Observation: Given the balance sheet and risk factors of Uber and Lyft, which company is performing better? Please use concrete numbers to inform your decision.\n",
      "\u001b[0m\u001b[1;3;34m> Generated new reasoning step: Thought: I need to compare the financial information of Uber and Lyft to determine which company is performing better.\n",
      "Action: uber_10k\n",
      "Action Input: {'input': 'balance sheet and risk factors'}\n",
      "Observation: The company's balance sheet may be impacted by the risks associated with platform users engaging in criminal, violent, or inappropriate activities, leading to safety incidents. These incidents could harm the company's reputation, business, financial condition, and operating results. Additionally, the company may face significant liabilities from safety incidents, inadequate qualification processes, and background checks for platform users. Moreover, the company's financial condition could be affected by potential claims of liability resulting from traffic accidents, injuries, or other incidents involving platform users. Furthermore, the company may need to pay out material amounts due to insurance claims, which could impact its financial condition. The company is also subject to pricing regulations, litigation, and regulatory inquiries that could affect its operating costs and financial results.\n",
      "\u001b[0m\u001b[1;3;34m> Generated new reasoning step: Thought: I need to compare the financial information of Uber and Lyft to determine which company is performing better.\n",
      "Action: uber_10k\n",
      "Action Input: {'input': 'balance sheet and risk factors'}\n",
      "Observation: The company's balance sheet may be impacted by the risks associated with platform users engaging in criminal, violent, or inappropriate activities, which could harm the company's reputation and financial condition. Additionally, the company faces risks related to insurance liabilities stemming from traffic accidents or incidents caused by drivers using the platform. Regulatory challenges and potential litigation regarding pricing models could also affect the company's financial results. Furthermore, the company's agreements with drivers and merchants establish enforceable rights and obligations, impacting revenue recognition. The balance sheet may reflect provisions for potential liabilities arising from these risk factors.\n",
      "\u001b[0m\u001b[1;3;38;5;200m> Evaluation for input Given the balance sheet and risk factors of Uber and Lyft, which company is performing better? Please use concrete numbers to inform your decision.\n",
      ": score=8 is_done=False reasoning=\"The latest thought and action indicate a clear understanding of the query, which is to compare the financial information of Uber and Lyft to determine which company is performing better. The action of accessing Uber's 10K report aligns with the task at hand. However, the observation provided does not directly address the comparison of financial performance between Uber and Lyft with concrete numbers. Therefore, the correctness score is 8 as the actions are relevant but not fully addressing the query. The completeness score is marked as incomplete since the answer has not been found yet.\"\n",
      "\n",
      "\u001b[0m\u001b[1;3;38;5;200m> Evaluation for input Given the balance sheet and risk factors of Uber and Lyft, which company is performing better? Please use concrete numbers to inform your decision.\n",
      ": score=8 is_done=False reasoning=\"The latest thought and action are aligned with the query, focusing on comparing the financial information of Uber and Lyft to determine which company is performing better. The action of accessing Uber's 10-K report for the balance sheet and risk factors is a relevant step towards answering the query. The observation provides detailed information on the risks associated with Uber's operations, which is essential for the comparison. The trajectory is on the right track in terms of correctness, but the completeness is not achieved yet as the comparison and final decision are pending.\"\n",
      "\n",
      "\u001b[0m\u001b[1;3;32m> Got final response: I am still thinking.\n",
      "\u001b[0m"
     ]
    }
   ],
   "source": [
    "step_output = agent.run_step(task.task_id)"
   ]
  },
  {
   "cell_type": "code",
   "execution_count": null,
   "id": "ca38642c-d23b-456d-b0eb-523c6310d595",
   "metadata": {},
   "outputs": [
    {
     "data": {
      "text/plain": [
       "[ObservationReasoningStep(observation='Given the balance sheet and risk factors of Uber and Lyft, which company is performing better? Please use concrete numbers to inform your decision.'),\n",
       " ActionReasoningStep(thought='I need to compare the financial information of Uber and Lyft to determine which company is performing better.', action='uber_10k', action_input={'input': 'balance sheet and risk factors'}),\n",
       " ObservationReasoningStep(observation=\"The company's balance sheet may be impacted by the risks associated with platform users engaging in criminal, violent, or inappropriate activities, leading to safety incidents. These incidents could harm the company's reputation, business, financial condition, and operating results. Additionally, the company may face significant liabilities from safety incidents, inadequate qualification processes, and background checks for platform users. Moreover, the company's financial condition could be affected by potential claims of liability resulting from traffic accidents, injuries, or other incidents involving platform users. Furthermore, the company may need to pay out material amounts due to insurance claims, which could impact its financial condition. The company is also subject to pricing regulations, litigation, and regulatory inquiries that could affect its operating costs and financial results.\")]"
      ]
     },
     "execution_count": null,
     "metadata": {},
     "output_type": "execute_result"
    }
   ],
   "source": [
    "step_output.task_step.step_state[\"root_node\"].children[0].current_reasoning"
   ]
  },
  {
   "cell_type": "code",
   "execution_count": null,
   "id": "aa9c988f-3e2e-4c6d-85bf-27b03ba88609",
   "metadata": {},
   "outputs": [
    {
     "name": "stdout",
     "output_type": "stream",
     "text": [
      "\u001b[1;3;32m> Selecting node to expand: Observation: The company's balance sheet may be impacted by the risks associated with platform users engaging in criminal, violent, or inappropriate activities, leading to safety incidents. These incidents could harm the company's reputation, business, financial condition, and operating results. Additionally, the company may face significant liabilities from safety incidents, inadequate qualification processes, and background checks for platform users. Moreover, the company's financial condition could be affected by potential claims of liability resulting from traffic accidents, injuries, or other incidents involving platform users. Furthermore, the company may need to pay out material amounts due to insurance claims, which could impact its financial condition. The company is also subject to pricing regulations, litigation, and regulatory inquiries that could affect its operating costs and financial results.\n",
      "\u001b[0m\u001b[1;3;34m> Generated new reasoning step: Thought: I have gathered information about the risks associated with Uber's operations.\n",
      "Action: lyft_10k\n",
      "Action Input: {'input': 'balance sheet and risk factors'}\n",
      "Observation: The company's balance sheet may be impacted by various factors such as payment processing charges, hosting and platform-related costs, vehicle lease expenses, personnel-related compensation costs, and depreciation. Additionally, risks to consider include challenges in managing the complexities of expanding their platform, potential negative impacts on revenue in the short term, difficulties in attracting and retaining drivers and businesses for new offerings, regulatory compliance issues, and potential litigation risks related to personal injury and automotive liability.\n",
      "\u001b[0m\u001b[1;3;34m> Generated new reasoning step: Thought: I have gathered information about the risks associated with Uber's operations.\n",
      "Action: lyft_10k\n",
      "Action Input: {'input': 'balance sheet and risk factors'}\n",
      "Observation: The company's balance sheet may be impacted by various factors such as payment processing charges, hosting and platform-related costs, vehicle lease expenses, personnel-related compensation costs, and depreciation. Additionally, risks to consider include challenges related to the new delivery service platform, potential difficulties in attracting and retaining drivers and businesses, regulatory compliance issues, competition from more experienced players, and potential litigation risks in areas like personal injury and automotive liability.\n",
      "\u001b[0m\u001b[1;3;38;5;200m> Evaluation for input Given the balance sheet and risk factors of Uber and Lyft, which company is performing better? Please use concrete numbers to inform your decision.\n",
      ": score=8 is_done=False reasoning=\"The latest thoughts and actions in the conversation trajectory show a clear understanding of the query and the task at hand. The user has correctly identified the need to compare the financial information of Uber and Lyft to determine which company is performing better. The actions of accessing the 10-K reports for both companies to gather information on their balance sheets and risk factors demonstrate a proactive approach towards answering the query. The observations made after accessing the 10-K reports provide valuable insights into the potential risks and impacts on the companies' financial conditions. While the conversation is not yet complete in providing a definitive answer, the user's thought process and actions align with the query's requirements, indicating a high level of correctness and progress towards finding the answer.\"\n",
      "\n",
      "\u001b[0m\u001b[1;3;38;5;200m> Evaluation for input Given the balance sheet and risk factors of Uber and Lyft, which company is performing better? Please use concrete numbers to inform your decision.\n",
      ": score=8 is_done=False reasoning=\"The latest thoughts and actions in the conversation trajectory show a clear effort to compare the financial information of Uber and Lyft to determine which company is performing better. The user has taken the necessary steps by examining the balance sheets and risk factors of both companies. The observations made provide valuable insights into the potential risks and challenges faced by Uber and Lyft, which are crucial factors in evaluating their performance. While the answer is not yet found, the trajectory demonstrates a correct approach towards addressing the query with concrete numbers. The user's focus on gathering relevant financial information and understanding the risks associated with each company indicates a good understanding of the task at hand.\"\n",
      "\n",
      "\u001b[0m\u001b[1;3;32m> Got final response: I am still thinking.\n",
      "\u001b[0m"
     ]
    }
   ],
   "source": [
    "step_output = agent.run_step(task.task_id)"
   ]
  },
  {
   "cell_type": "code",
   "execution_count": null,
   "id": "4abc5d66-8df6-41ba-9b6d-9f7636370b0b",
   "metadata": {},
   "outputs": [
    {
     "data": {
      "text/plain": [
       "[ObservationReasoningStep(observation='Given the balance sheet and risk factors of Uber and Lyft, which company is performing better? Please use concrete numbers to inform your decision.'),\n",
       " ActionReasoningStep(thought='I need to compare the financial information of Uber and Lyft to determine which company is performing better.', action='uber_10k', action_input={'input': 'balance sheet and risk factors'}),\n",
       " ObservationReasoningStep(observation=\"The company's balance sheet may be impacted by the risks associated with platform users engaging in criminal, violent, or inappropriate activities, leading to safety incidents. These incidents could harm the company's reputation, business, financial condition, and operating results. Additionally, the company may face significant liabilities from safety incidents, inadequate qualification processes, and background checks for platform users. Moreover, the company's financial condition could be affected by potential claims of liability resulting from traffic accidents, injuries, or other incidents involving platform users. Furthermore, the company may need to pay out material amounts due to insurance claims, which could impact its financial condition. The company is also subject to pricing regulations, litigation, and regulatory inquiries that could affect its operating costs and financial results.\"),\n",
       " ActionReasoningStep(thought=\"I have gathered information about the risks associated with Uber's operations.\", action='lyft_10k', action_input={'input': 'balance sheet and risk factors'}),\n",
       " ObservationReasoningStep(observation=\"The company's balance sheet may be impacted by various factors such as payment processing charges, hosting and platform-related costs, vehicle lease expenses, personnel-related compensation costs, and depreciation. Additionally, risks to consider include challenges in managing the complexities of expanding their platform, potential negative impacts on revenue in the short term, difficulties in attracting and retaining drivers and businesses for new offerings, regulatory compliance issues, and potential litigation risks related to personal injury and automotive liability.\")]"
      ]
     },
     "execution_count": null,
     "metadata": {},
     "output_type": "execute_result"
    }
   ],
   "source": [
    "step_output.task_step.step_state[\"root_node\"].children[0].children[0].current_reasoning"
   ]
  },
  {
   "cell_type": "code",
   "execution_count": null,
   "id": "807ccbf2-8bd4-44c2-baef-19b9d1d918d0",
   "metadata": {},
   "outputs": [
    {
     "name": "stdout",
     "output_type": "stream",
     "text": [
      "\u001b[1;3;32m> Selecting node to expand: Observation: The company's balance sheet may be impacted by the risks associated with platform users engaging in criminal, violent, or inappropriate activities, which could harm the company's reputation and financial condition. Additionally, the company faces risks related to insurance liabilities stemming from traffic accidents or incidents caused by drivers using the platform. Regulatory challenges and potential litigation regarding pricing models could also affect the company's financial results. Furthermore, the company's agreements with drivers and merchants establish enforceable rights and obligations, impacting revenue recognition. The balance sheet may reflect provisions for potential liabilities arising from these risk factors.\n",
      "\u001b[0m\u001b[1;3;34m> Generated new reasoning step: Thought: The risk factors mentioned can impact both Uber and Lyft's financial performance. I need to gather more specific financial information to compare the two companies.\n",
      "Action: lyft_10k\n",
      "Action Input: {'input': 'balance sheet and risk factors'}\n",
      "Observation: The company's balance sheet may be impacted by various factors such as payment processing charges, hosting and platform-related costs, vehicle lease expenses, personnel-related compensation costs, and depreciation. Additionally, risks factors that could affect the company include challenges in managing the complexities of their expanding multimodal platform, potential lack of success in their new delivery service platform, difficulties in attracting and retaining drivers and businesses for the delivery service, regulatory compliance issues, and potential negative publicity affecting their reputation and brand.\n",
      "\u001b[0m\u001b[1;3;34m> Generated new reasoning step: Thought: The risk factors mentioned could impact both Uber and Lyft's financial performance. I need to gather more specific financial information to compare the two companies.\n",
      "Action: lyft_10k\n",
      "Action Input: {'input': 'balance sheet and risk factors'}\n",
      "Observation: The company's balance sheet may be impacted by various factors such as payment processing charges, hosting and platform-related costs, vehicle lease expenses, personnel-related compensation costs, and depreciation. Additionally, risks to consider include challenges in managing a new delivery service platform, potential difficulties in attracting and retaining drivers and businesses, regulatory compliance issues, litigation risks, and the impact of negative publicity on the company's reputation and brand.\n",
      "\u001b[0m\u001b[1;3;38;5;200m> Evaluation for input Given the balance sheet and risk factors of Uber and Lyft, which company is performing better? Please use concrete numbers to inform your decision.\n",
      ": score=8 is_done=False reasoning='The latest thought and action in the conversation trajectory show a clear understanding of the query and the need to compare the financial information of Uber and Lyft to determine which company is performing better. The user has taken appropriate actions by looking at the balance sheets and risk factors of both companies. The observations made indicate a good grasp of the potential impact of various factors on the financial performance of Uber and Lyft. The trajectory is on the right track towards answering the query, but it is not complete yet as the comparison of specific financial information is still pending.'\n",
      "\n",
      "\u001b[0m\u001b[1;3;38;5;200m> Evaluation for input Given the balance sheet and risk factors of Uber and Lyft, which company is performing better? Please use concrete numbers to inform your decision.\n",
      ": score=8 is_done=False reasoning='The latest thought and action in the conversation trajectory show a clear understanding of the query and the need to compare the financial information of Uber and Lyft to determine which company is performing better. The actions of accessing the balance sheets and risk factors of both companies demonstrate a proactive approach to gathering relevant information for the comparison. The observations highlight key risk factors that could impact the financial performance of Uber and Lyft, indicating a thorough analysis. While the answer is not yet found, the trajectory is on the right track in terms of correctness and completeness.'\n",
      "\n",
      "\u001b[0m\u001b[1;3;32m> Got final response: I am still thinking.\n",
      "\u001b[0m"
     ]
    }
   ],
   "source": [
    "step_output = agent.run_step(task.task_id)"
   ]
  },
  {
   "cell_type": "code",
   "execution_count": null,
   "id": "c3f6df1a-9c3b-4897-82be-4384642e5310",
   "metadata": {},
   "outputs": [
    {
     "name": "stdout",
     "output_type": "stream",
     "text": [
      "\u001b[1;3;32m> Selecting node to expand: Observation: The company's balance sheet may be impacted by various factors such as payment processing charges, hosting and platform-related costs, vehicle lease expenses, personnel-related compensation costs, and depreciation. Additionally, risks to consider include challenges in managing the complexities of expanding their platform, potential negative impacts on revenue in the short term, difficulties in attracting and retaining drivers and businesses for new offerings, regulatory compliance issues, and potential litigation risks related to personal injury and automotive liability.\n",
      "\u001b[0m\u001b[1;3;34m> Generated new reasoning step: Thought: I have gathered information about the risks associated with Lyft's operations.\n",
      "Action: lyft_10k\n",
      "Action Input: {'input': 'balance sheet and risk factors'}\n",
      "Observation: The company's financial statements likely include information on assets, liabilities, and equity, providing a snapshot of its financial position at a specific point in time. Additionally, the risks outlined in the text highlight potential challenges that could impact the company's business operations and financial performance.\n",
      "\u001b[0m\u001b[1;3;34m> Generated new reasoning step: Thought: I have gathered information about the risks associated with Lyft's operations.\n",
      "Action: uber_10k\n",
      "Action Input: {'input': 'balance sheet and risk factors'}\n",
      "Observation: The company's balance sheet may be impacted by the risks associated with platform users engaging in criminal, violent, or inappropriate activities, leading to safety incidents. These incidents could harm the company's reputation, business, financial condition, and operating results. Additionally, the company faces risks related to insurance liabilities stemming from traffic accidents or incidents caused by platform users, even when not actively using the platform. Compliance with local laws, regulations, and insurance requirements is crucial to mitigate these risks. Furthermore, pricing regulations and litigation related to pricing models could affect the company's revenue and operating costs. Overall, managing these risks is essential for maintaining the company's financial stability and growth.\n",
      "\u001b[0m\u001b[1;3;38;5;200m> Evaluation for input Given the balance sheet and risk factors of Uber and Lyft, which company is performing better? Please use concrete numbers to inform your decision.\n",
      ": score=8 is_done=False reasoning=\"The latest thoughts and actions in the conversation trajectory show a clear effort to compare the financial information of Uber and Lyft to determine which company is performing better, aligning with the initial query. The observations from both Uber and Lyft's balance sheets and risk factors provide relevant information for the comparison. While the answer is not explicitly provided yet, the trajectory is on the right track towards addressing the query. The analysis of risks associated with both companies indicates a thoughtful approach to evaluating their financial health. However, the completeness is not achieved as the final decision on which company is performing better is still pending.\"\n",
      "\n",
      "\u001b[0m\u001b[1;3;38;5;200m> Evaluation for input Given the balance sheet and risk factors of Uber and Lyft, which company is performing better? Please use concrete numbers to inform your decision.\n",
      ": score=8 is_done=False reasoning=\"The latest thoughts and actions in the conversation trajectory show a clear effort to compare the financial information of Uber and Lyft to determine which company is performing better. The user has gathered information about the risks associated with both companies' operations by reviewing their balance sheets and risk factors. The observations highlight key risks that could impact the companies' financial conditions and operating results. While the answer to the query is not explicitly provided yet, the trajectory demonstrates a correct approach towards evaluating the performance of Uber and Lyft based on concrete financial data. The trajectory is incomplete as the final decision on which company is performing better is pending, but the analysis and comparison of financial information are on the right track.\"\n",
      "\n",
      "\u001b[0m\u001b[1;3;32m> Got final response: I am still thinking.\n",
      "\u001b[0m"
     ]
    }
   ],
   "source": [
    "step_output = agent.run_step(task.task_id)"
   ]
  },
  {
   "cell_type": "code",
   "execution_count": null,
   "id": "e683e464-9a0b-433f-a904-082c63ea375c",
   "metadata": {},
   "outputs": [
    {
     "name": "stdout",
     "output_type": "stream",
     "text": [
      "\u001b[1;3;32m> Selecting node to expand: Thought: I can answer without using any more tools. I'll use the user's language to answer\n",
      "Answer: Based on the risks mentioned, both Uber and Lyft face challenges related to payment processors, compliance issues, and expansion into new jurisdictions. These risks could impact their financial condition and operations. To determine which company is performing better, we need to compare their revenue growth numbers.\n",
      "\u001b[0m\u001b[1;3;34m> Generated new reasoning step: Thought: I cannot answer the question with the provided tools.\n",
      "Answer: I cannot answer the question with the provided tools.\n",
      "\u001b[0m\u001b[1;3;34m> Generated new reasoning step: Thought: I need to compare the revenue growth of Uber and Lyft to determine which company is performing better.\n",
      "Action: lyft_10k\n",
      "Action Input: {'input': 'revenue growth'}\n",
      "Observation: The provided context information does not contain details related to revenue growth.\n",
      "\u001b[0m\u001b[1;3;38;5;200m> Evaluation for input Given the revenue growth and risk factors of Uber and Lyft, which company is performing better? Please use concrete numbers to inform your decision.\n",
      ": score=8 is_done=False reasoning='The latest thought and action demonstrate a good understanding of the query and the need to compare revenue growth and risk factors of Uber and Lyft. The user correctly identifies the risks faced by both companies and acknowledges the importance of concrete numbers in making a decision. The trajectory is on the right track in terms of correctness, but it is not complete as the answer is not found yet. The user acknowledges the limitation of the current tools and stops the process, showing awareness of when to seek additional information or tools to provide a complete answer.'\n",
      "\n",
      "\u001b[0m\u001b[1;3;38;5;200m> Evaluation for input Given the revenue growth and risk factors of Uber and Lyft, which company is performing better? Please use concrete numbers to inform your decision.\n",
      ": score=8 is_done=False reasoning=\"The latest thought and action in the conversation trajectory show a clear understanding of the query and the need to compare the revenue growth and risk factors of Uber and Lyft to determine which company is performing better. The user correctly identified the risks faced by both companies, including payment processors, compliance issues, and expansion into new jurisdictions. The user also acknowledged the lack of information on revenue growth for Lyft, indicating an awareness of the incomplete trajectory. The user's reasoning is logical and focused on the key aspects of the query, demonstrating a good understanding of the task at hand.\"\n",
      "\n",
      "\u001b[0m\u001b[1;3;32m> Got final response: I am still thinking.\n",
      "\u001b[0m"
     ]
    }
   ],
   "source": [
    "step_output = agent.run_step(task.task_id)"
   ]
  },
  {
   "cell_type": "code",
   "execution_count": null,
   "id": "8d4ebee0-1191-4630-8bdd-58d92721d514",
   "metadata": {},
   "outputs": [],
   "source": [
    "response = agent.query(\n",
    "    \"Given the revenue growth and risk factors of Uber and Lyft, \"\n",
    "    \"which company is performing better? Please use concrete numbers to inform your decision.\"\n",
    ")\n",
    "print(str(response))"
   ]
  }
 ],
 "metadata": {
  "kernelspec": {
   "display_name": "llama_index_v3",
   "language": "python",
   "name": "llama_index_v3"
  },
  "language_info": {
   "codemirror_mode": {
    "name": "ipython",
    "version": 3
   },
   "file_extension": ".py",
   "mimetype": "text/x-python",
   "name": "python",
   "nbconvert_exporter": "python",
   "pygments_lexer": "ipython3"
  }
 },
 "nbformat": 4,
 "nbformat_minor": 5
}
